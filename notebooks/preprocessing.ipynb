{
 "cells": [
  {
   "cell_type": "code",
   "execution_count": 1,
   "metadata": {},
   "outputs": [],
   "source": [
    "import pandas as pd\n",
    "\n",
    "data = pd.read_csv('../data/OVS.csv')\n",
    "\n",
    "columns_to_drop = ['Timestamp', 'FlowID', 'Src IP', 'Dst IP']\n",
    "data.drop(columns=columns_to_drop, inplace=True, errors='ignore')\n",
    "\n",
    "# Binary encoding labels (normal=0, attack=1)\n",
    "data['Label'] = data['Label'].apply(lambda x: 0 if x.lower() == 'normal' else 1)\n",
    "\n",
    "data.to_csv('../data/processed_data.csv', index=False)\n"
   ]
  }
 ],
 "metadata": {
  "kernelspec": {
   "display_name": "networkEnv",
   "language": "python",
   "name": "python3"
  },
  "language_info": {
   "codemirror_mode": {
    "name": "ipython",
    "version": 3
   },
   "file_extension": ".py",
   "mimetype": "text/x-python",
   "name": "python",
   "nbconvert_exporter": "python",
   "pygments_lexer": "ipython3",
   "version": "3.11.7"
  }
 },
 "nbformat": 4,
 "nbformat_minor": 2
}
